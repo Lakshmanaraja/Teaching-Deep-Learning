{
  "nbformat": 4,
  "nbformat_minor": 0,
  "metadata": {
    "colab": {
      "name": "Quickest Matrix Multiplication using PyTorch.ipynb",
      "provenance": [],
      "collapsed_sections": [],
      "authorship_tag": "ABX9TyO+BiC0X0d1d3kblqCNlDAR",
      "include_colab_link": true
    },
    "kernelspec": {
      "name": "python3",
      "display_name": "Python 3"
    },
    "language_info": {
      "name": "python"
    }
  },
  "cells": [
    {
      "cell_type": "markdown",
      "metadata": {
        "id": "view-in-github",
        "colab_type": "text"
      },
      "source": [
        "<a href=\"https://colab.research.google.com/github/Lakshmanaraja/Teaching-Deep-Learning/blob/main/Quickest_Matrix_Multiplication_using_PyTorch.ipynb\" target=\"_parent\"><img src=\"https://colab.research.google.com/assets/colab-badge.svg\" alt=\"Open In Colab\"/></a>"
      ]
    },
    {
      "cell_type": "code",
      "execution_count": null,
      "metadata": {
        "id": "x6-dHJEfwn2a"
      },
      "outputs": [],
      "source": [
        "import torch\n",
        "from torch import tensor\n"
      ]
    },
    {
      "cell_type": "code",
      "source": [
        "a = torch.tensor([[3,4,5] ,[2,1,6], [1,2,3]])\n",
        "b = torch.tensor([[4,5],[3,6],[1,8]])"
      ],
      "metadata": {
        "id": "PIIh-KKJAeJq"
      },
      "execution_count": null,
      "outputs": []
    },
    {
      "cell_type": "code",
      "source": [
        "def matrixmulti_python(a,b):\n",
        "  assert a.shape[1]==b.shape[0] # Number of columns in Matrix A should match Number of rows in Matrix B\n",
        "  result = torch.zeros((a.shape[0],b.shape[1]))\n",
        "  for i in range(a.shape[0]): #For each row of Matrix A\n",
        "    for j in range(b.shape[1]): # For each column of Matrix B\n",
        "      for k in range(b.shape[0]): # For each item value\n",
        "          result[i,j] += a[i,k] * b[k,j]\n",
        "  return result\n",
        "\n"
      ],
      "metadata": {
        "id": "-oA7cLIqxYj8"
      },
      "execution_count": null,
      "outputs": []
    },
    {
      "cell_type": "code",
      "source": [
        "\n",
        "result = matrixmulti_python(a,b)\n",
        "print(result)\n",
        "\n",
        "%timeit -n 20 result1 = matrixmulti_python(a,b) \n",
        "\n"
      ],
      "metadata": {
        "colab": {
          "base_uri": "https://localhost:8080/"
        },
        "id": "uadninLzyrF_",
        "outputId": "79bb037a-dea8-4bc0-9c56-180b6b06e0ef"
      },
      "execution_count": null,
      "outputs": [
        {
          "output_type": "stream",
          "name": "stdout",
          "text": [
            "tensor([[29., 79.],\n",
            "        [17., 64.],\n",
            "        [13., 41.]])\n",
            "20 loops, best of 5: 313 µs per loop\n"
          ]
        }
      ]
    },
    {
      "cell_type": "code",
      "source": [
        "def matrixmulti_elementwise(a,b):\n",
        "  assert a.shape[1]==b.shape[0] # Number of columns in Matrix A should match Number of rows in Matrix B\n",
        "  result = torch.zeros((a.shape[0],b.shape[1]))\n",
        "  for i in range(a.shape[0]): #For each row of Matrix A\n",
        "    for j in range(b.shape[1]): # For each column of Matrix B\n",
        "     # for k in range(b.shape[0]): # For each item value\n",
        "          result[i,j] = (a[i] * b[:,j]).sum()\n",
        "  return result"
      ],
      "metadata": {
        "id": "BwyUjRotz0sa"
      },
      "execution_count": null,
      "outputs": []
    },
    {
      "cell_type": "code",
      "source": [
        "result = matrixmulti_elementwise(a,b)\n",
        "print( result )\n",
        "\n",
        "%timeit -n 20 result1 = matrixmulti_elementwise(a,b) "
      ],
      "metadata": {
        "colab": {
          "base_uri": "https://localhost:8080/"
        },
        "id": "yNrbMyPv9c30",
        "outputId": "eafad05b-b8af-4579-96e1-8773bc77f816"
      },
      "execution_count": null,
      "outputs": [
        {
          "output_type": "stream",
          "name": "stdout",
          "text": [
            "tensor([[29., 79.],\n",
            "        [17., 64.],\n",
            "        [13., 41.]])\n",
            "20 loops, best of 5: 89.3 µs per loop\n"
          ]
        }
      ]
    },
    {
      "cell_type": "code",
      "source": [
        "def matrixmulti_broadcasting(a,b):\n",
        "  result = torch.zeros((a.shape[0],b.shape[1]))\n",
        "  assert a.shape[1]==b.shape[0] # Number of columns in Matrix A should match Number of rows in Matrix B\n",
        "  for i in range(a.shape[0]): #For each row of Matrix A\n",
        "    #for j in range(b.shape[1]): \n",
        "     # for k in range(b.shape[0]): \n",
        "    result[i]  = (a[i].unsqueeze(-1) * b).sum(dim=0)\n",
        "\n",
        "  return result"
      ],
      "metadata": {
        "id": "ByUq3860zGEH"
      },
      "execution_count": null,
      "outputs": []
    },
    {
      "cell_type": "code",
      "source": [
        "result = matrixmulti_broadcasting(a,b)\n",
        "print ( result )\n",
        "\n",
        "print( result )\n",
        "\n",
        "%timeit -n 20 result1 = matrixmulti_broadcasting(a,b) \n"
      ],
      "metadata": {
        "colab": {
          "base_uri": "https://localhost:8080/"
        },
        "id": "I0LXlg040eoc",
        "outputId": "37295dc5-f105-4a0b-b5eb-c8958ec616b0"
      },
      "execution_count": null,
      "outputs": [
        {
          "output_type": "stream",
          "name": "stdout",
          "text": [
            "tensor([[29., 79.],\n",
            "        [17., 64.],\n",
            "        [13., 41.]])\n",
            "tensor([[29., 79.],\n",
            "        [17., 64.],\n",
            "        [13., 41.]])\n",
            "20 loops, best of 5: 41.9 µs per loop\n"
          ]
        }
      ]
    },
    {
      "cell_type": "code",
      "source": [
        "def matrixmulti_einstein_summation(a,b): return torch.einsum('ik,kj->ij',a,b)"
      ],
      "metadata": {
        "id": "l5FFAxRs7pDS"
      },
      "execution_count": null,
      "outputs": []
    },
    {
      "cell_type": "code",
      "source": [
        "result = matrixmulti_einstein_summation(a,b)\n",
        "print( result )\n",
        "%timeit -n 20 result1 = matrixmulti_broadcasting(a,b) "
      ],
      "metadata": {
        "colab": {
          "base_uri": "https://localhost:8080/"
        },
        "id": "29E20swY8cI5",
        "outputId": "4be6caa8-f32b-46cf-a150-ad288bcc250c"
      },
      "execution_count": null,
      "outputs": [
        {
          "output_type": "stream",
          "name": "stdout",
          "text": [
            "tensor([[29, 79],\n",
            "        [17, 64],\n",
            "        [13, 41]])\n",
            "20 loops, best of 5: 51.3 µs per loop\n"
          ]
        }
      ]
    },
    {
      "cell_type": "code",
      "source": [
        "def matrixmulti_at_operator(a,b): \n",
        "  return a@b"
      ],
      "metadata": {
        "id": "RmsPXloBhIiC"
      },
      "execution_count": null,
      "outputs": []
    },
    {
      "cell_type": "code",
      "source": [
        "result = matrixmulti_at_operator(a,b)\n",
        "print ( result )\n",
        "%timeit -n 20 result1 = matrixmulti_at_operator(a,b) "
      ],
      "metadata": {
        "colab": {
          "base_uri": "https://localhost:8080/"
        },
        "id": "6I1uimu-hTTw",
        "outputId": "12c02e45-f87d-4e9d-9947-8c872991055e"
      },
      "execution_count": null,
      "outputs": [
        {
          "output_type": "stream",
          "name": "stdout",
          "text": [
            "tensor([[29, 79],\n",
            "        [17, 64],\n",
            "        [13, 41]])\n",
            "The slowest run took 14.03 times longer than the fastest. This could mean that an intermediate result is being cached.\n",
            "20 loops, best of 5: 3.69 µs per loop\n"
          ]
        }
      ]
    },
    {
      "cell_type": "code",
      "source": [
        "%timeit -n 20 result1 = matrixmulti_python(a,b) \n",
        "%timeit -n 20 result2 = matrixmulti_elementwise(a,b) \n",
        "%timeit -n 20 result3 = matrixmulti_broadcasting(a,b)\n",
        "%timeit -n 20 result4 = matrixmulti_einstein_summation(a,b) \n",
        "%timeit -n 20 result5 = a@b"
      ],
      "metadata": {
        "colab": {
          "base_uri": "https://localhost:8080/"
        },
        "id": "rhtk3ufF8e1W",
        "outputId": "b9ab39b0-4d94-4f57-acaa-2229f19f34f0"
      },
      "execution_count": null,
      "outputs": [
        {
          "output_type": "stream",
          "name": "stdout",
          "text": [
            "20 loops, best of 5: 314 µs per loop\n",
            "20 loops, best of 5: 90.7 µs per loop\n",
            "20 loops, best of 5: 41.5 µs per loop\n",
            "20 loops, best of 5: 15.6 µs per loop\n",
            "20 loops, best of 5: 2.39 µs per loop\n"
          ]
        }
      ]
    },
    {
      "cell_type": "code",
      "source": [
        ""
      ],
      "metadata": {
        "id": "2qRKyTPznPqQ"
      },
      "execution_count": null,
      "outputs": []
    }
  ]
}